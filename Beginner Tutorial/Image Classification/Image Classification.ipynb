{
 "cells": [
  {
   "cell_type": "code",
   "execution_count": 1,
   "metadata": {},
   "outputs": [
    {
     "name": "stdout",
     "output_type": "stream",
     "text": [
      "TensorFlow version : 2.16.1\n"
     ]
    }
   ],
   "source": [
    "import tensorflow as tf\n",
    "from keras.models import Sequential\n",
    "from keras.layers import Flatten, Dense, Dropout\n",
    "\n",
    "print(\"TensorFlow version :\", tf.__version__)"
   ]
  },
  {
   "cell_type": "code",
   "execution_count": 2,
   "metadata": {},
   "outputs": [],
   "source": [
    "mnist = tf.keras.datasets.mnist\n",
    "(x_train, y_train), (x_test, y_test) = mnist.load_data()\n",
    "x_train, x_test = x_train / 255.0, x_test / 255.0"
   ]
  },
  {
   "cell_type": "code",
   "execution_count": 3,
   "metadata": {},
   "outputs": [
    {
     "name": "stderr",
     "output_type": "stream",
     "text": [
      "c:\\Users\\pangy\\AppData\\Local\\Programs\\Python\\Python312\\Lib\\site-packages\\keras\\src\\layers\\reshaping\\flatten.py:37: UserWarning: Do not pass an `input_shape`/`input_dim` argument to a layer. When using Sequential models, prefer using an `Input(shape)` object as the first layer in the model instead.\n",
      "  super().__init__(**kwargs)\n"
     ]
    }
   ],
   "source": [
    "model = Sequential()\n",
    "model.add(Flatten(input_shape=(28, 28)))\n",
    "model.add(Dense(128, activation='relu'))\n",
    "model.add(Dropout(0.2))\n",
    "model.add(Dense(10))"
   ]
  },
  {
   "cell_type": "code",
   "execution_count": 4,
   "metadata": {},
   "outputs": [
    {
     "data": {
      "text/plain": [
       "array([[ 0.79306877, -0.20863156, -0.17157423, -0.4394734 ,  0.58191395,\n",
       "        -0.33465162,  0.5471691 ,  0.9139659 ,  0.2024016 , -0.58041745]],\n",
       "      dtype=float32)"
      ]
     },
     "execution_count": 4,
     "metadata": {},
     "output_type": "execute_result"
    }
   ],
   "source": [
    "predictions = model(x_train[:1]).numpy()\n",
    "predictions"
   ]
  },
  {
   "cell_type": "code",
   "execution_count": 5,
   "metadata": {},
   "outputs": [
    {
     "data": {
      "text/plain": [
       "array([[0.1697495 , 0.06234127, 0.06469481, 0.04949054, 0.13743748,\n",
       "        0.05495987, 0.13274424, 0.19156381, 0.09403402, 0.04298441]],\n",
       "      dtype=float32)"
      ]
     },
     "execution_count": 5,
     "metadata": {},
     "output_type": "execute_result"
    }
   ],
   "source": [
    "tf.nn.softmax(predictions).numpy()"
   ]
  },
  {
   "cell_type": "code",
   "execution_count": 6,
   "metadata": {},
   "outputs": [],
   "source": [
    "loss_fn = tf.keras.losses.SparseCategoricalCrossentropy(from_logits=True)"
   ]
  },
  {
   "cell_type": "code",
   "execution_count": 7,
   "metadata": {},
   "outputs": [
    {
     "data": {
      "text/plain": [
       "2.9011517"
      ]
     },
     "execution_count": 7,
     "metadata": {},
     "output_type": "execute_result"
    }
   ],
   "source": [
    "loss_fn(y_train[:1], predictions).numpy()"
   ]
  },
  {
   "cell_type": "code",
   "execution_count": 8,
   "metadata": {},
   "outputs": [],
   "source": [
    "model.compile(optimizer='adam', loss=loss_fn, metrics=['accuracy'])"
   ]
  },
  {
   "cell_type": "code",
   "execution_count": 9,
   "metadata": {},
   "outputs": [
    {
     "name": "stdout",
     "output_type": "stream",
     "text": [
      "Epoch 1/5\n",
      "\u001b[1m1875/1875\u001b[0m \u001b[32m━━━━━━━━━━━━━━━━━━━━\u001b[0m\u001b[37m\u001b[0m \u001b[1m3s\u001b[0m 1ms/step - accuracy: 0.8599 - loss: 0.4842\n",
      "Epoch 2/5\n",
      "\u001b[1m1875/1875\u001b[0m \u001b[32m━━━━━━━━━━━━━━━━━━━━\u001b[0m\u001b[37m\u001b[0m \u001b[1m2s\u001b[0m 1ms/step - accuracy: 0.9559 - loss: 0.1512\n",
      "Epoch 3/5\n",
      "\u001b[1m1875/1875\u001b[0m \u001b[32m━━━━━━━━━━━━━━━━━━━━\u001b[0m\u001b[37m\u001b[0m \u001b[1m2s\u001b[0m 1ms/step - accuracy: 0.9666 - loss: 0.1096\n",
      "Epoch 4/5\n",
      "\u001b[1m1875/1875\u001b[0m \u001b[32m━━━━━━━━━━━━━━━━━━━━\u001b[0m\u001b[37m\u001b[0m \u001b[1m2s\u001b[0m 1ms/step - accuracy: 0.9726 - loss: 0.0891\n",
      "Epoch 5/5\n",
      "\u001b[1m1875/1875\u001b[0m \u001b[32m━━━━━━━━━━━━━━━━━━━━\u001b[0m\u001b[37m\u001b[0m \u001b[1m2s\u001b[0m 1ms/step - accuracy: 0.9768 - loss: 0.0732\n"
     ]
    },
    {
     "data": {
      "text/plain": [
       "<keras.src.callbacks.history.History at 0x24d9d25e210>"
      ]
     },
     "execution_count": 9,
     "metadata": {},
     "output_type": "execute_result"
    }
   ],
   "source": [
    "model.fit(x_train, y_train, epochs=5)"
   ]
  },
  {
   "cell_type": "code",
   "execution_count": 10,
   "metadata": {},
   "outputs": [
    {
     "name": "stdout",
     "output_type": "stream",
     "text": [
      "313/313 - 0s - 878us/step - accuracy: 0.9772 - loss: 0.0723\n"
     ]
    },
    {
     "data": {
      "text/plain": [
       "[0.07234086841344833, 0.9771999716758728]"
      ]
     },
     "execution_count": 10,
     "metadata": {},
     "output_type": "execute_result"
    }
   ],
   "source": [
    "model.evaluate(x_test, y_test, verbose=2)"
   ]
  },
  {
   "cell_type": "code",
   "execution_count": 11,
   "metadata": {},
   "outputs": [],
   "source": [
    "probability_model = tf.keras.Sequential([\n",
    "    model,\n",
    "    tf.keras.layers.Softmax()\n",
    "])"
   ]
  },
  {
   "cell_type": "code",
   "execution_count": 12,
   "metadata": {},
   "outputs": [
    {
     "data": {
      "text/plain": [
       "<tf.Tensor: shape=(5, 10), dtype=float32, numpy=\n",
       "array([[6.2724200e-07, 4.3167820e-08, 3.0219687e-06, 4.7765064e-04,\n",
       "        1.6330647e-08, 3.4491859e-06, 6.5320774e-12, 9.9950731e-01,\n",
       "        3.6194797e-06, 4.2402330e-06],\n",
       "       [3.6581426e-07, 4.8647162e-06, 9.9994767e-01, 4.2489624e-05,\n",
       "        4.2288316e-16, 5.0963382e-07, 2.6566956e-06, 1.4314762e-12,\n",
       "        1.4719374e-06, 3.5650461e-14],\n",
       "       [5.7074891e-07, 9.9744129e-01, 1.0919284e-04, 1.1072444e-05,\n",
       "        8.1589722e-05, 5.5249529e-06, 1.2214915e-04, 2.0135276e-03,\n",
       "        2.1492830e-04, 2.3833390e-07],\n",
       "       [9.9886936e-01, 2.0009605e-09, 2.3382272e-05, 1.9842164e-06,\n",
       "        6.5137306e-06, 2.0040778e-05, 9.6558407e-04, 9.7018361e-05,\n",
       "        2.5197460e-07, 1.5848449e-05],\n",
       "       [1.6618645e-07, 1.0150778e-10, 3.1886128e-07, 6.2751786e-09,\n",
       "        9.9819118e-01, 5.7959067e-08, 1.2249575e-06, 5.0697177e-05,\n",
       "        8.5224301e-08, 1.7562468e-03]], dtype=float32)>"
      ]
     },
     "execution_count": 12,
     "metadata": {},
     "output_type": "execute_result"
    }
   ],
   "source": [
    "probability_model(x_test[:5])"
   ]
  },
  {
   "cell_type": "code",
   "execution_count": 13,
   "metadata": {},
   "outputs": [
    {
     "data": {
      "text/plain": [
       "<tf.Tensor: shape=(5, 10), dtype=float32, numpy=\n",
       "array([[ -4.031548  ,  -6.707785  ,  -2.4592164 ,   2.6037548 ,\n",
       "         -7.6798363 ,  -2.3269858 , -15.50391   ,  10.249893  ,\n",
       "         -2.278794  ,  -2.120506  ],\n",
       "       [ -0.6375306 ,   1.9501079 ,  14.1835575 ,   4.1173596 ,\n",
       "        -21.215828  ,  -0.30596328,   1.3451825 , -13.088705  ,\n",
       "          0.7546792 , -16.781404  ],\n",
       "       [ -7.355909  ,   7.017845  ,  -2.101988  ,  -4.3906446 ,\n",
       "         -2.3934007 ,  -5.085829  ,  -1.9898608 ,   0.81254005,\n",
       "         -1.4247988 ,  -8.229186  ],\n",
       "       [  8.522743  , -11.505763  ,  -2.1396582 ,  -4.606412  ,\n",
       "         -3.417724  ,  -2.2938669 ,   1.5810971 ,  -0.7167356 ,\n",
       "         -6.6700625 ,  -2.5285645 ],\n",
       "       [ -5.1869254 , -12.587657  ,  -4.5352798 ,  -8.463433  ,\n",
       "         10.421419  ,  -6.240299  ,  -3.1893744 ,   0.533589  ,\n",
       "         -5.8547487 ,   4.0786533 ]], dtype=float32)>"
      ]
     },
     "execution_count": 13,
     "metadata": {},
     "output_type": "execute_result"
    }
   ],
   "source": [
    "model(x_test[:5])"
   ]
  }
 ],
 "metadata": {
  "kernelspec": {
   "display_name": "Python 3",
   "language": "python",
   "name": "python3"
  },
  "language_info": {
   "codemirror_mode": {
    "name": "ipython",
    "version": 3
   },
   "file_extension": ".py",
   "mimetype": "text/x-python",
   "name": "python",
   "nbconvert_exporter": "python",
   "pygments_lexer": "ipython3",
   "version": "3.12.2"
  }
 },
 "nbformat": 4,
 "nbformat_minor": 2
}
